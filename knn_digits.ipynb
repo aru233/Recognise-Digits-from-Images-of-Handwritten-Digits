{
 "cells": [
  {
   "cell_type": "code",
   "execution_count": 2,
   "metadata": {},
   "outputs": [
    {
     "name": "stdout",
     "output_type": "stream",
     "text": [
      "K: 1\n",
      "K: 3\n",
      "K: 5\n",
      "K: 7\n"
     ]
    }
   ],
   "source": [
    "import pandas as pd\n",
    "import numpy as np\n",
    "from collections import Counter\n",
    "\n",
    "# from google.colab import drive\n",
    "# drive.mount(\"/content/drive\")\n",
    "\n",
    "import matplotlib.pyplot as plt\n",
    "\n",
    "from sklearn.metrics import accuracy_score\n",
    "from sklearn.metrics import mean_squared_error\n",
    "from sklearn.metrics import r2_score\n",
    "from sklearn.metrics import confusion_matrix\n",
    "from sklearn.metrics import f1_score\n",
    "from sklearn.metrics import *\n",
    "\n",
    "\n",
    "class KNNClassifier:\n",
    "    k = 1\n",
    "    train_df = pd.DataFrame()\n",
    "    test_df = pd.DataFrame()\n",
    "    best_k = 5\n",
    "\n",
    "    def check_accuracy(self, predicted_label, validation_label):\n",
    "        total=0\n",
    "        correct=0\n",
    "        accuracy=0.0\n",
    "        if(len(predicted_label)!=len(validation_label)):\n",
    "            print(\"Something's fishy!\")\n",
    "            return\n",
    "            \n",
    "        total=len(predicted_label)\n",
    "        for i in range(total):\n",
    "            if(predicted_label[i]==validation_label[i]):\n",
    "                correct+=1\n",
    "        accuracy=correct/total\n",
    "        return accuracy\n",
    "            \n",
    "    def euclidean_distance(self, x, y):\n",
    "        return np.linalg.norm(np.array(x)-np.array(y))\n",
    "    \n",
    "    def manhattan_distance(self, x, y):\n",
    "        return np.sum(np.absolute(np.array(x)-np.array(y)))\n",
    "    \n",
    "    def knn_algo(self, train_data, test_data, k):\n",
    "        predicted_label=[]\n",
    "        for i in range(0, test_data.shape[0]): #test_data\n",
    "            # print(\"i:\",i)\n",
    "            distance=[]\n",
    "            labels=[]            \n",
    "            for j in range(0, train_data.shape[0]): #train_data\n",
    "#                 dist = self.euclidean_distance(test_data[i], train_data[j])\n",
    "                dist = self.manhattan_distance(test_data[i], train_data[j])\n",
    "                distance.append([dist,label_of_train_data[j][0]])\n",
    "                \n",
    "            for j in sorted(distance)[:k]:\n",
    "                labels.append(j[1])#gives the top k labels for a particular test_df\n",
    "            predicted_label.append(Counter(labels).most_common(1)[0][0])\n",
    "        return predicted_label\n",
    "\n",
    "\n",
    "    def train_validation_split(self, df):\n",
    "        dataLen=int(0.9*df.shape[0])\n",
    "        #dataLen=df.shape[0]-100\n",
    "        return df.iloc[0:dataLen, :], df.iloc[dataLen:,:]\n",
    "\n",
    "\n",
    "    def predict(self, test_file_name):\n",
    "        self.test_df = pd.read_csv(test_file_name, header=None)[:]\n",
    "        return self.knn_algo(self.train_df.values, self.test_df.values, self.k)\n",
    "\n",
    "\n",
    "    def train(self, train_file_name):\n",
    "        df = pd.read_csv(train_file_name)[:]\n",
    "\n",
    "        self.train_df, validation_df = self.train_validation_split(df)\n",
    "\n",
    "        global label_of_train_data\n",
    "        label_of_train_data = self.train_df.iloc[:,:1].to_numpy()\n",
    "        self.train_df = self.train_df.iloc[:,1:]#dropping the label col from train_data\n",
    "\n",
    "        label_of_validation_data = validation_df.iloc[:, :1].to_numpy()\n",
    "        validation_df = validation_df.iloc[:,1:]\n",
    "\n",
    "        global accuracy_k\n",
    "        accuracy_k=[]\n",
    "        for i in [1,3,5,7]:\n",
    "            self.k=i\n",
    "            predicted_label=self.knn_algo(self.train_df.values, validation_df.values, self.k)       \n",
    "            acc=self.check_accuracy(predicted_label, label_of_validation_data)\n",
    "            print(\"K:\",self.k)\n",
    "            accuracy_k.append([acc, self.k])\n",
    "        self.k = self.best_k\n",
    "\n",
    "knn_classifier = KNNClassifier()\n",
    "knn_classifier.train('./Datasets/q1/train.csv')\n",
    "predictions = knn_classifier.predict('./Datasets/q1/test.csv')\n",
    "test_labels = list()\n",
    "with open(\"./Datasets/q1/test_labels.csv\") as f:\n",
    "  for line in f:\n",
    "    test_labels.append(int(line))\n",
    "# print(\"Accuracy of custom kNN classifier: \", accuracy_score(test_labels[:10], predictions))\n",
    "# print(\"r2_score: \", r2_score(test_labels[:10], predictions))"
   ]
  },
  {
   "cell_type": "markdown",
   "metadata": {},
   "source": [
    "## Accuracy for different k values with Euclidean Distance"
   ]
  },
  {
   "cell_type": "code",
   "execution_count": 7,
   "metadata": {},
   "outputs": [
    {
     "name": "stdout",
     "output_type": "stream",
     "text": [
      "Accuracy: [0.9565, 0.9575, 0.955, 0.9565]\n",
      "K: [1, 3, 5, 7]\n"
     ]
    },
    {
     "data": {
      "image/png": "[encoded data removed]",
      "text/plain": [
       "<Figure size 432x288 with 1 Axes>"
      ]
     },
     "metadata": {
      "needs_background": "light"
     },
     "output_type": "display_data"
    }
   ],
   "source": [
    "accuracy = [num[0] for num in accuracy_k]\n",
    "k_vals = [num[1] for num in accuracy_k]\n",
    "print(\"Accuracy:\",accuracy)\n",
    "print(\"K:\",k_vals)\n",
    "\n",
    "plt.plot(k_vals, accuracy) \n",
    "  \n",
    "plt.xlabel('k')\n",
    "plt.ylabel('accuracy')  \n",
    "plt.title(\"k vs accuracy with Euclidean\") \n",
    "# plt.legend()\n",
    "plt.show() "
   ]
  },
  {
   "cell_type": "markdown",
   "metadata": {},
   "source": [
    "## Accuracy for different k values with Manhattan Distance"
   ]
  },
  {
   "cell_type": "code",
   "execution_count": 3,
   "metadata": {},
   "outputs": [
    {
     "name": "stdout",
     "output_type": "stream",
     "text": [
      "Accuracy: [0.9505, 0.952, 0.9495, 0.9485]\n",
      "K: [1, 3, 5, 7]\n"
     ]
    },
    {
     "data": {
      "image/png": "[encoded data removed]",
      "text/plain": [
       "<Figure size 432x288 with 1 Axes>"
      ]
     },
     "metadata": {
      "needs_background": "light"
     },
     "output_type": "display_data"
    }
   ],
   "source": [
    "accuracy = [num[0] for num in accuracy_k]\n",
    "k_vals = [num[1] for num in accuracy_k]\n",
    "print(\"Accuracy:\",accuracy)\n",
    "print(\"K:\",k_vals)\n",
    "\n",
    "plt.plot(k_vals, accuracy) \n",
    "  \n",
    "plt.xlabel('k')\n",
    "plt.ylabel('accuracy')  \n",
    "plt.title(\"k vs accuracy with Manhattan\") \n",
    "# plt.legend()\n",
    "plt.show() "
   ]
  },
  {
   "cell_type": "markdown",
   "metadata": {},
   "source": [
    "## Reportings for Custom kNN Classifier"
   ]
  },
  {
   "cell_type": "markdown",
   "metadata": {},
   "source": [
    "### Accuracy Score"
   ]
  },
  {
   "cell_type": "code",
   "execution_count": 8,
   "metadata": {},
   "outputs": [
    {
     "data": {
      "text/plain": [
       "0.962"
      ]
     },
     "execution_count": 8,
     "metadata": {},
     "output_type": "execute_result"
    }
   ],
   "source": [
    "accuracy_score(test_labels[:], predictions)"
   ]
  },
  {
   "cell_type": "markdown",
   "metadata": {},
   "source": [
    "### Confusion Matrix"
   ]
  },
  {
   "cell_type": "code",
   "execution_count": 9,
   "metadata": {},
   "outputs": [
    {
     "data": {
      "text/plain": [
       "array([[ 93,   0,   0,   0,   0,   0,   1,   0,   0,   0],\n",
       "       [  0, 100,   0,   1,   0,   0,   0,   0,   0,   0],\n",
       "       [  0,   0, 105,   1,   0,   0,   0,   2,   0,   0],\n",
       "       [  0,   0,   0, 106,   0,   1,   1,   0,   0,   0],\n",
       "       [  0,   1,   0,   0,  83,   0,   1,   0,   0,   6],\n",
       "       [  0,   0,   0,   1,   0,  79,   0,   0,   1,   0],\n",
       "       [  0,   0,   0,   0,   0,   0, 101,   0,   0,   0],\n",
       "       [  0,   4,   1,   0,   1,   0,   0,  95,   0,   3],\n",
       "       [  1,   0,   1,   3,   0,   2,   0,   0,  93,   0],\n",
       "       [  2,   0,   0,   0,   0,   1,   0,   1,   1, 107]])"
      ]
     },
     "execution_count": 9,
     "metadata": {},
     "output_type": "execute_result"
    }
   ],
   "source": [
    "confusion_matrix(test_labels[:], predictions)"
   ]
  },
  {
   "cell_type": "markdown",
   "metadata": {},
   "source": [
    "### f1_score"
   ]
  },
  {
   "cell_type": "code",
   "execution_count": 10,
   "metadata": {},
   "outputs": [
    {
     "data": {
      "text/plain": [
       "0.962"
      ]
     },
     "execution_count": 10,
     "metadata": {},
     "output_type": "execute_result"
    }
   ],
   "source": [
    "f1_score(test_labels[:], predictions, average='micro', zero_division=1)"
   ]
  },
  {
   "cell_type": "markdown",
   "metadata": {},
   "source": [
    "### Classification Score"
   ]
  },
  {
   "cell_type": "code",
   "execution_count": 11,
   "metadata": {},
   "outputs": [
    {
     "name": "stdout",
     "output_type": "stream",
     "text": [
      "              precision    recall  f1-score   support\n",
      "\n",
      "           0       0.97      0.99      0.98        94\n",
      "           1       0.95      0.99      0.97       101\n",
      "           2       0.98      0.97      0.98       108\n",
      "           3       0.95      0.98      0.96       108\n",
      "           4       0.99      0.91      0.95        91\n",
      "           5       0.95      0.98      0.96        81\n",
      "           6       0.97      1.00      0.99       101\n",
      "           7       0.97      0.91      0.94       104\n",
      "           8       0.98      0.93      0.95       100\n",
      "           9       0.92      0.96      0.94       112\n",
      "\n",
      "    accuracy                           0.96      1000\n",
      "   macro avg       0.96      0.96      0.96      1000\n",
      "weighted avg       0.96      0.96      0.96      1000\n",
      "\n"
     ]
    }
   ],
   "source": [
    "print(classification_report(test_labels[:], predictions))"
   ]
  },
  {
   "cell_type": "markdown",
   "metadata": {},
   "source": [
    "## Reportings for Scikit-learn’s kNN classifier"
   ]
  },
  {
   "cell_type": "markdown",
   "metadata": {},
   "source": [
    "### Accuracy Score"
   ]
  },
  {
   "cell_type": "code",
   "execution_count": 12,
   "metadata": {},
   "outputs": [
    {
     "data": {
      "text/plain": [
       "0.958"
      ]
     },
     "execution_count": 12,
     "metadata": {},
     "output_type": "execute_result"
    }
   ],
   "source": [
    "train_data=knn_classifier.train_df.values\n",
    "# print(train_data)\n",
    "test_data=knn_classifier.test_df.values\n",
    "# print(label_of_train_data)\n",
    "\n",
    "from sklearn.neighbors import KNeighborsClassifier\n",
    "\n",
    "neigh = KNeighborsClassifier(n_neighbors=5)\n",
    "neigh.fit(train_data, label_of_train_data.ravel())\n",
    "\n",
    "predictions_inbuilt_knn = neigh.predict(test_data)\n",
    "\n",
    "accuracy_score(test_labels[:], predictions_inbuilt_knn)"
   ]
  },
  {
   "cell_type": "markdown",
   "metadata": {},
   "source": [
    "### Confusion matrix"
   ]
  },
  {
   "cell_type": "code",
   "execution_count": 13,
   "metadata": {},
   "outputs": [
    {
     "data": {
      "text/plain": [
       "array([[ 93,   0,   0,   0,   0,   0,   1,   0,   0,   0],\n",
       "       [  0, 100,   0,   1,   0,   0,   0,   0,   0,   0],\n",
       "       [  0,   0, 105,   1,   0,   0,   0,   2,   0,   0],\n",
       "       [  0,   0,   0, 107,   0,   1,   0,   0,   0,   0],\n",
       "       [  0,   1,   0,   0,  83,   0,   1,   0,   0,   6],\n",
       "       [  0,   1,   0,   1,   0,  78,   0,   0,   1,   0],\n",
       "       [  0,   0,   0,   0,   0,   0, 101,   0,   0,   0],\n",
       "       [  0,   4,   1,   0,   2,   0,   0,  94,   0,   3],\n",
       "       [  1,   0,   2,   3,   0,   2,   0,   0,  92,   0],\n",
       "       [  2,   0,   1,   0,   1,   2,   0,   1,   0, 105]])"
      ]
     },
     "execution_count": 13,
     "metadata": {},
     "output_type": "execute_result"
    }
   ],
   "source": [
    "confusion_matrix(test_labels[:], predictions_inbuilt_knn)"
   ]
  },
  {
   "cell_type": "markdown",
   "metadata": {},
   "source": [
    "### f1_score"
   ]
  },
  {
   "cell_type": "code",
   "execution_count": 14,
   "metadata": {},
   "outputs": [
    {
     "data": {
      "text/plain": [
       "0.962"
      ]
     },
     "execution_count": 14,
     "metadata": {},
     "output_type": "execute_result"
    }
   ],
   "source": [
    "f1_score(test_labels[:], predictions, average='micro', zero_division=1)"
   ]
  },
  {
   "cell_type": "markdown",
   "metadata": {},
   "source": [
    "### Classification Score"
   ]
  },
  {
   "cell_type": "code",
   "execution_count": 15,
   "metadata": {},
   "outputs": [
    {
     "name": "stdout",
     "output_type": "stream",
     "text": [
      "              precision    recall  f1-score   support\n",
      "\n",
      "           0       0.97      0.99      0.98        94\n",
      "           1       0.95      0.99      0.97       101\n",
      "           2       0.98      0.97      0.98       108\n",
      "           3       0.95      0.98      0.96       108\n",
      "           4       0.99      0.91      0.95        91\n",
      "           5       0.95      0.98      0.96        81\n",
      "           6       0.97      1.00      0.99       101\n",
      "           7       0.97      0.91      0.94       104\n",
      "           8       0.98      0.93      0.95       100\n",
      "           9       0.92      0.96      0.94       112\n",
      "\n",
      "    accuracy                           0.96      1000\n",
      "   macro avg       0.96      0.96      0.96      1000\n",
      "weighted avg       0.96      0.96      0.96      1000\n",
      "\n"
     ]
    }
   ],
   "source": [
    "print(classification_report(test_labels[:], predictions))"
   ]
  }
 ],
 "metadata": {
  "kernelspec": {
   "display_name": "Python 3",
   "language": "python",
   "name": "python3"
  },
  "language_info": {
   "codemirror_mode": {
    "name": "ipython",
    "version": 3
   },
   "file_extension": ".py",
   "mimetype": "text/x-python",
   "name": "python",
   "nbconvert_exporter": "python",
   "pygments_lexer": "ipython3",
   "version": "3.7.3"
  }
 },
 "nbformat": 4,
 "nbformat_minor": 2
}
