{
 "cells": [
  {
   "cell_type": "code",
   "execution_count": 22,
   "metadata": {},
   "outputs": [
    {
     "name": "stdout",
     "output_type": "stream",
     "text": [
      "K: 1\n",
      "K: 3\n",
      "K: 5\n",
      "K: 7\n",
      "1.0\n"
     ]
    }
   ],
   "source": [
    "import pandas as pd\n",
    "import numpy as np\n",
    "from collections import Counter\n",
    "from datetime import datetime\n",
    "\n",
    "# from google.colab import drive\n",
    "# drive.mount(\"/content/drive\")\n",
    "\n",
    "from sklearn.metrics import accuracy_score\n",
    "from sklearn.metrics import *\n",
    "\n",
    "class KNNClassifier:\n",
    "    list_all = []\n",
    "    k = 1\n",
    "    train_df = pd.DataFrame()\n",
    "    test_df = pd.DataFrame()\n",
    "    \n",
    "    def get_all_labels(self):\n",
    "         self.list_all = [['b','c','x','f','k','s'], ['f', 'g' , 'y', 's'],\n",
    "                        ['n', 'b', 'c', 'g', 'r', 'p', 'u', 'e', 'w', 'y'],\n",
    "                        ['t', 'f'], ['a', 'l', 'c', 'y', 'f', 'm', 'n', 'p', 's'],\n",
    "                        ['a', 'f', 'd', 'n'], ['c', 'w' , 'd'], ['b', 'n'],\n",
    "                        ['k', 'n' , 'b', 'h', 'g', 'r', 'o', 'p', 'u', 'e', 'w', 'y']  \n",
    "                        , ['e', 't'] ,\n",
    "                        ['b','c','u','e','z','r'],\n",
    "                        ['f', 'y' , 'k', 's'],\n",
    "                        ['f', 'y' , 'k', 's'],\n",
    "                        ['n', 'b', 'c', 'g', 'o', 'p', 'e', 'w', 'y'],\n",
    "                        ['n', 'b', 'c', 'g', 'o', 'p', 'e', 'w', 'y'],\n",
    "                        ['p', 'u'],\n",
    "                        ['n', 'o', 'w', 'y'],\n",
    "                        ['n', 'o', 't'],\n",
    "                        ['c', 'e', 'f', 'l', 'n', 'p', 's', 'z'],\n",
    "                        ['k', 'n', 'b', 'h', 'r', 'o', 'u', 'w', 'y'],\n",
    "                        ['a', 'c', 'n', 's', 'v', 'y'],\n",
    "                        ['g', 'l', 'm', 'p', 'u', 'w', 'd']\n",
    "                        ]\n",
    "\n",
    "    def clean_train_data(self, df):\n",
    "        col = df.iloc[:,11]\n",
    "        df.iloc[:,11].replace(to_replace = \"?\", value = col.mode()[0], inplace=True)\n",
    "        return df\n",
    "\n",
    "    def clean_test_data(self, df):\n",
    "        for col_name in df.columns:\n",
    "            col=df[col_name]\n",
    "            df[col_name].replace(to_replace = \"?\", value = col.mode()[0], inplace=True)\n",
    "            return df\n",
    "    \n",
    "    def train_validation_split(self, df):\n",
    "        dataLen=int(0.9*df.shape[0])\n",
    "        # dataLen=df.shape[0]-60\n",
    "        return df.iloc[0:dataLen, :], df.iloc[dataLen:,:]\n",
    "\n",
    "    def one_hot_encode(self, df):\n",
    "        #print(\"one hot df:\", df)\n",
    "        self.get_all_labels()\n",
    "\n",
    "        df_final = pd.DataFrame() #empty dataframe\n",
    "        for col_idx in range(0, df.shape[1]):\n",
    "            df_dum = pd.get_dummies(df.iloc[:,col_idx], columns = self.list_all[col_idx])\n",
    "            df_dum = df_dum.T.reindex(self.list_all[col_idx]).T.fillna(0)\n",
    "            # print(col_idx, df_dum)\n",
    "            df_final = pd.concat([df_final, df_dum], axis=1)\n",
    "        return df_final\n",
    "    \n",
    "    def check_accuracy(self, predicted_label, validation_label):\n",
    "        total=0\n",
    "        correct=0\n",
    "        accuracy=0.0\n",
    "        if(len(predicted_label)!=len(validation_label)):\n",
    "            print(\"Something's fishy!\")\n",
    "            return\n",
    "            \n",
    "        total=len(predicted_label)\n",
    "        for i in range(total):\n",
    "            if(predicted_label[i]==validation_label[i]):\n",
    "                correct+=1\n",
    "        accuracy=correct/total\n",
    "        return accuracy\n",
    "    \n",
    "    def euclidean_distance(self, x, y):\n",
    "        return np.linalg.norm(np.array(x)-np.array(y))\n",
    "    \n",
    "    def manhattan_distance(self, x, y):\n",
    "        return np.sum(np.absolute(np.array(x)-np.array(y)))\n",
    "\n",
    "    def knn_algo(self, train_data, test_data, k):\n",
    "        predicted_label=[]\n",
    "        for i in range(0, test_data.shape[0]): #test_data\n",
    "            # print(\"i \",i)\n",
    "            distance=[]\n",
    "            labels=[]            \n",
    "            for j in range(0, train_data.shape[0]): #train_data\n",
    "                dist = self.euclidean_distance(test_data[i], train_data[j])\n",
    "                #dist = self.manhattan_distance(test_data[i], train_data[j])\n",
    "                distance.append([dist,label_of_train_data[j][0]])\n",
    "            for j in sorted(distance)[:k]:\n",
    "                labels.append(j[1])#gives the top k labels for a particular test_data\n",
    "            predicted_label.append(Counter(labels).most_common(1)[0][0])\n",
    "        return predicted_label\n",
    "\n",
    "    def train_util(self,validation_df):\n",
    "        self.train_df = self.one_hot_encode(self.train_df)    \n",
    "        validation_df = self.one_hot_encode(validation_df) \n",
    "        return validation_df\n",
    "        # print(test_df_enc)\n",
    "        #predicted_label = self.knn_algo(self.train_df.values, validation_df.values, self.k)\n",
    "        #return predicted_label\n",
    "    \n",
    "    def predict_util(self):\n",
    "        self.test_df = self.one_hot_encode(self.test_df) \n",
    "        return self.knn_algo(self.train_df.values, self.test_df.values, self.k)\n",
    "\n",
    "    def predict(self, test_file_name):\n",
    "        self.test_df = pd.read_csv(test_file_name, header=None)[:]\n",
    "        self.test_df = self.clean_test_data(self.test_df)\n",
    "        return self.predict_util()\n",
    "\n",
    "    def train(self, train_file_name):\n",
    "        df = pd.read_csv(train_file_name)[:]\n",
    "        df = self.clean_train_data(df)\n",
    "\n",
    "        self.train_df, validation_df = self.train_validation_split(df)\n",
    "\n",
    "        global label_of_train_data\n",
    "        label_of_train_data = self.train_df.iloc[:,:1].to_numpy()\n",
    "        self.train_df = self.train_df.iloc[:,1:]#dropping the label col from train_data\n",
    "\n",
    "        label_of_validation_data = validation_df.iloc[:, :1].to_numpy()\n",
    "        validation_df = validation_df.iloc[:,1:]\n",
    "        \n",
    "        validation_df = self.train_util(validation_df)\n",
    "        \n",
    "        global accuracy_k\n",
    "        accuracy_k = []\n",
    "        for i in [1,3,5,7]:\n",
    "            self.k=i\n",
    "            print(\"K:\",self.k)\n",
    "            \n",
    "            predicted_label = self.knn_algo(self.train_df.values, validation_df.values, self.k)\n",
    "            #print(\"predicted_label:\", predicted_label)\n",
    "            accuracy = self.check_accuracy(predicted_label, label_of_validation_data)            \n",
    "            accuracy_k.append([accuracy, self.k])\n",
    "        self.k=5       \n",
    "\n",
    "knn_classifier = KNNClassifier()\n",
    "knn_classifier.train('./Datasets/q2/train.csv')\n",
    "predictions = knn_classifier.predict('./Datasets/q2/test.csv')\n",
    "test_labels = list()\n",
    "with open(\"./Datasets/q2/test_labels.csv\") as f:\n",
    "  for line in f:\n",
    "    test_labels.append(line.strip())\n",
    "# print(\"test_labels: \", test_labels)\n",
    "# print (accuracy_score(test_labels[:], predictions))"
   ]
  },
  {
   "cell_type": "code",
   "execution_count": null,
   "metadata": {},
   "outputs": [],
   "source": []
  },
  {
   "cell_type": "markdown",
   "metadata": {},
   "source": [
    "## Accuracy for different k values"
   ]
  },
  {
   "cell_type": "code",
   "execution_count": 26,
   "metadata": {},
   "outputs": [
    {
     "name": "stdout",
     "output_type": "stream",
     "text": [
      "Accuracy: [1.0, 1.0, 1.0, 1.0]\n",
      "K: [1, 3, 5, 7]\n"
     ]
    },
    {
     "data": {
      "image/png": "[encoded data removed]",
      "text/plain": [
       "<Figure size 432x288 with 1 Axes>"
      ]
     },
     "metadata": {
      "needs_background": "light"
     },
     "output_type": "display_data"
    }
   ],
   "source": [
    "import matplotlib.pyplot as plt\n",
    "accuracy = [num[0] for num in accuracy_k]\n",
    "k_vals = [num[1] for num in accuracy_k]\n",
    "print(\"Accuracy:\",accuracy)\n",
    "print(\"K:\",k_vals)\n",
    "\n",
    "plt.plot(k_vals, accuracy) \n",
    "  \n",
    "plt.xlabel('k')\n",
    "plt.ylabel('accuracy')  \n",
    "plt.title(\"k vs accuracy with Euclidean\") \n",
    "# plt.legend()\n",
    "plt.show() "
   ]
  },
  {
   "cell_type": "markdown",
   "metadata": {},
   "source": [
    "## Reportings for Custom kNN Classifier"
   ]
  },
  {
   "cell_type": "markdown",
   "metadata": {},
   "source": [
    "### Accuracy Score"
   ]
  },
  {
   "cell_type": "code",
   "execution_count": 29,
   "metadata": {},
   "outputs": [
    {
     "data": {
      "text/plain": [
       "1.0"
      ]
     },
     "execution_count": 29,
     "metadata": {},
     "output_type": "execute_result"
    }
   ],
   "source": [
    "from sklearn.metrics import *\n",
    "accuracy_score(test_labels[:], predictions)"
   ]
  },
  {
   "cell_type": "markdown",
   "metadata": {},
   "source": [
    "### Confusion Matrix"
   ]
  },
  {
   "cell_type": "code",
   "execution_count": 30,
   "metadata": {},
   "outputs": [
    {
     "data": {
      "text/plain": [
       "array([[505,   0],\n",
       "       [  0, 495]])"
      ]
     },
     "execution_count": 30,
     "metadata": {},
     "output_type": "execute_result"
    }
   ],
   "source": [
    "confusion_matrix(test_labels[:], predictions)"
   ]
  },
  {
   "cell_type": "markdown",
   "metadata": {},
   "source": [
    "### f1_score"
   ]
  },
  {
   "cell_type": "code",
   "execution_count": 31,
   "metadata": {},
   "outputs": [
    {
     "data": {
      "text/plain": [
       "1.0"
      ]
     },
     "execution_count": 31,
     "metadata": {},
     "output_type": "execute_result"
    }
   ],
   "source": [
    "f1_score(test_labels[:], predictions, average='micro', zero_division=1)"
   ]
  },
  {
   "cell_type": "markdown",
   "metadata": {},
   "source": [
    "### Classification Score"
   ]
  },
  {
   "cell_type": "code",
   "execution_count": 32,
   "metadata": {},
   "outputs": [
    {
     "name": "stdout",
     "output_type": "stream",
     "text": [
      "              precision    recall  f1-score   support\n",
      "\n",
      "           e       1.00      1.00      1.00       505\n",
      "           p       1.00      1.00      1.00       495\n",
      "\n",
      "    accuracy                           1.00      1000\n",
      "   macro avg       1.00      1.00      1.00      1000\n",
      "weighted avg       1.00      1.00      1.00      1000\n",
      "\n"
     ]
    }
   ],
   "source": [
    "print(classification_report(test_labels[:], predictions))"
   ]
  },
  {
   "cell_type": "markdown",
   "metadata": {},
   "source": [
    "## Reportings for Scikit-learn’s kNN classifier"
   ]
  },
  {
   "cell_type": "markdown",
   "metadata": {},
   "source": [
    "### Accuracy Score"
   ]
  },
  {
   "cell_type": "code",
   "execution_count": 33,
   "metadata": {},
   "outputs": [
    {
     "data": {
      "text/plain": [
       "1.0"
      ]
     },
     "execution_count": 33,
     "metadata": {},
     "output_type": "execute_result"
    }
   ],
   "source": [
    "train_data=knn_classifier.train_df.values\n",
    "# print(train_data)\n",
    "test_data=knn_classifier.test_df.values\n",
    "# print(label_of_train_data)\n",
    "\n",
    "from sklearn.neighbors import KNeighborsClassifier\n",
    "\n",
    "neigh = KNeighborsClassifier(n_neighbors=5)\n",
    "neigh.fit(train_data, label_of_train_data.ravel())\n",
    "\n",
    "predictions_inbuilt_knn = neigh.predict(test_data)\n",
    "\n",
    "accuracy_score(test_labels[:], predictions_inbuilt_knn)"
   ]
  },
  {
   "cell_type": "markdown",
   "metadata": {},
   "source": [
    "### Confusion matrix"
   ]
  },
  {
   "cell_type": "code",
   "execution_count": 34,
   "metadata": {},
   "outputs": [
    {
     "data": {
      "text/plain": [
       "array([[505,   0],\n",
       "       [  0, 495]])"
      ]
     },
     "execution_count": 34,
     "metadata": {},
     "output_type": "execute_result"
    }
   ],
   "source": [
    "confusion_matrix(test_labels[:], predictions_inbuilt_knn)"
   ]
  },
  {
   "cell_type": "markdown",
   "metadata": {},
   "source": [
    "### f1_score"
   ]
  },
  {
   "cell_type": "code",
   "execution_count": 35,
   "metadata": {},
   "outputs": [
    {
     "data": {
      "text/plain": [
       "1.0"
      ]
     },
     "execution_count": 35,
     "metadata": {},
     "output_type": "execute_result"
    }
   ],
   "source": [
    "f1_score(test_labels[:], predictions, average='micro', zero_division=1)"
   ]
  },
  {
   "cell_type": "markdown",
   "metadata": {},
   "source": [
    "### Classification Score"
   ]
  },
  {
   "cell_type": "code",
   "execution_count": 36,
   "metadata": {},
   "outputs": [
    {
     "name": "stdout",
     "output_type": "stream",
     "text": [
      "              precision    recall  f1-score   support\n",
      "\n",
      "           e       1.00      1.00      1.00       505\n",
      "           p       1.00      1.00      1.00       495\n",
      "\n",
      "    accuracy                           1.00      1000\n",
      "   macro avg       1.00      1.00      1.00      1000\n",
      "weighted avg       1.00      1.00      1.00      1000\n",
      "\n"
     ]
    }
   ],
   "source": [
    "print(classification_report(test_labels[:], predictions))"
   ]
  }
 ],
 "metadata": {
  "kernelspec": {
   "display_name": "Python 3",
   "language": "python",
   "name": "python3"
  },
  "language_info": {
   "codemirror_mode": {
    "name": "ipython",
    "version": 3
   },
   "file_extension": ".py",
   "mimetype": "text/x-python",
   "name": "python",
   "nbconvert_exporter": "python",
   "pygments_lexer": "ipython3",
   "version": "3.7.3"
  }
 },
 "nbformat": 4,
 "nbformat_minor": 2
}
